{
 "cells": [
  {
   "cell_type": "code",
   "execution_count": null,
   "id": "fb1bfb5e",
   "metadata": {},
   "outputs": [],
   "source": [
    "import pandas as pd\n",
    "import numpy as np\n",
    "import os\n",
    "import matplotlib.pyplot as plt\n",
    "import tensorflow as tf\n",
    "import sklearn\n",
    "from tensorflow.keras.utils import image_dataset_from_directory\n",
    "from tensorflow.keras import layers\n",
    "\n",
    "os.environ['KERAS_BACKEND'] = 'tensorflow'"
   ]
  },
  {
   "cell_type": "code",
   "execution_count": null,
   "id": "9e157f30",
   "metadata": {},
   "outputs": [],
   "source": [
    "import keras\n",
    "\n",
    "print(\"Keras version:\", keras.__version__)"
   ]
  },
  {
   "cell_type": "code",
   "execution_count": null,
   "id": "95c482d0",
   "metadata": {},
   "outputs": [],
   "source": [
    "from typing import Literal\n",
    "\n",
    "\n",
    "def get_running_environment() -> Literal['local', 'colab', 'kaggle', 'marimo', 'jupyter']:\n",
    "    \"\"\"\n",
    "    Returns the current running environment.\n",
    "    \"\"\"\n",
    "    if 'COLAB_GPU' in os.environ:\n",
    "        return 'colab'\n",
    "    elif 'KAGGLE_URL_BASE' in os.environ:\n",
    "        return 'kaggle'\n",
    "    elif 'MARIMO' in os.environ:\n",
    "        return 'marimo'\n",
    "    elif 'JUPYTERHUB_USER' in os.environ:\n",
    "        return 'jupyter'\n",
    "    else:\n",
    "        return 'local'\n",
    "current_env = get_running_environment()\n",
    "\n",
    "def get_data_path(running_env: str) -> str:\n",
    "    \"\"\"\n",
    "    Returns the path to the data directory based on the running environment.\n",
    "    \"\"\"\n",
    "    if running_env == 'colab':\n",
    "        return '/content/data'\n",
    "    elif running_env == 'kaggle':\n",
    "        return '/kaggle/input/histopathologic-cancer-detection'\n",
    "    elif running_env == 'marimo':\n",
    "        return '/data'\n",
    "    else:\n",
    "        # return './data/histopathologic-cancer-detection'\n",
    "        return './data'\n",
    "    \n",
    "def set_random_seed(seed: int = 42):\n",
    "    \"\"\"\n",
    "    Sets the random seed for reproducibility.\n",
    "    \"\"\"\n",
    "    np.random.seed(seed)\n",
    "    tf.random.set_seed(seed)\n",
    "    print(f\"Random seed set to {seed}\")\n",
    "\n",
    "data_dir = get_data_path(current_env)\n",
    "print(f\"Data path: {data_dir} (for {current_env} environment)\")\n",
    "\n",
    "RANDOM_SEED = 42\n",
    "\n",
    "set_random_seed(RANDOM_SEED)"
   ]
  },
  {
   "cell_type": "code",
   "execution_count": null,
   "id": "e56c757c",
   "metadata": {},
   "outputs": [],
   "source": [
    "IMAGE_SIZE = 96\n",
    "IMAGE_CHANNEL = 3\n",
    "SAMPLE_SIZE = 1000\n",
    "BATCH_SIZE = 32\n",
    "TRAIN_IMAGE_DIR = os.path.join(data_dir, 'train')\n",
    "TEST_IMAGE_DIR = os.path.join(data_dir, 'test')"
   ]
  },
  {
   "cell_type": "code",
   "execution_count": null,
   "id": "df8f106f",
   "metadata": {},
   "outputs": [],
   "source": [
    "df = pd.read_csv(os.path.join(data_dir, 'train_labels.csv'))"
   ]
  },
  {
   "cell_type": "code",
   "execution_count": null,
   "id": "e99b36d2",
   "metadata": {},
   "outputs": [],
   "source": [
    "negative_samples = df[df['label'] == 0].sample(SAMPLE_SIZE, random_state=RANDOM_SEED)\n",
    "positive_samples = df[df['label'] == 1].sample(SAMPLE_SIZE, random_state=RANDOM_SEED)"
   ]
  },
  {
   "cell_type": "code",
   "execution_count": null,
   "id": "b91ac214",
   "metadata": {},
   "outputs": [],
   "source": [
    "train_processed_dir = os.path.join(data_dir, \"train_processed\")\n",
    "test_processed_dir = os.path.join(data_dir, \"test_processed\")"
   ]
  },
  {
   "cell_type": "code",
   "execution_count": null,
   "id": "97aa2b27",
   "metadata": {},
   "outputs": [],
   "source": [
    "train_ds = image_dataset_from_directory(\n",
    "    train_processed_dir,\n",
    "    validation_split=0.2,\n",
    "    subset=\"training\",\n",
    "    seed=RANDOM_SEED,\n",
    "    image_size=(IMAGE_SIZE, IMAGE_SIZE),\n",
    "    batch_size=BATCH_SIZE,\n",
    "    label_mode='binary'  # Binary labels (0 or 1)\n",
    ")"
   ]
  },
  {
   "cell_type": "code",
   "execution_count": null,
   "id": "638b08d2",
   "metadata": {},
   "outputs": [],
   "source": [
    "val_ds = image_dataset_from_directory(\n",
    "    train_processed_dir,\n",
    "    validation_split=0.2,\n",
    "    subset=\"validation\",\n",
    "    seed=RANDOM_SEED,\n",
    "    image_size=(IMAGE_SIZE, IMAGE_SIZE),\n",
    "    batch_size=BATCH_SIZE,\n",
    "    label_mode='binary'\n",
    ")"
   ]
  },
  {
   "cell_type": "code",
   "execution_count": null,
   "id": "147e1252",
   "metadata": {},
   "outputs": [],
   "source": [
    "test_ds = image_dataset_from_directory(\n",
    "    test_processed_dir,\n",
    "    image_size=(IMAGE_SIZE, IMAGE_SIZE),\n",
    "    batch_size=BATCH_SIZE,\n",
    "    label_mode=None,  # No labels for test\n",
    "    shuffle=False  # Preserve order for submission\n",
    ")"
   ]
  },
  {
   "cell_type": "code",
   "execution_count": null,
   "id": "81a74b78",
   "metadata": {},
   "outputs": [],
   "source": [
    "plt.figure(figsize=(10, 10))\n",
    "for images, labels in train_ds.take(1):\n",
    "    for i in range(9):\n",
    "        ax = plt.subplot(3, 3, i + 1)\n",
    "        plt.imshow(np.array(images[i]).astype(\"uint8\"))\n",
    "        plt.title(int(labels[i]))\n",
    "        plt.axis(\"off\")"
   ]
  },
  {
   "cell_type": "code",
   "execution_count": null,
   "id": "76d28d76",
   "metadata": {},
   "outputs": [],
   "source": [
    "def build_custom_cnn(input_shape, num_classes):\n",
    "    inputs = keras.Input(shape=input_shape)\n",
    "\n",
    "    # Entry block\n",
    "    x = layers.Rescaling(1.0 / 255)(inputs)\n",
    "    x = layers.Conv2D(128, 3, strides=2, padding=\"same\")(x)\n",
    "    x = layers.BatchNormalization()(x)\n",
    "    x = layers.Activation(\"relu\")(x)\n",
    "\n",
    "    previous_block_activation = x  # Set aside residual\n",
    "\n",
    "    for size in [256, 512, 728]:\n",
    "        x = layers.Activation(\"relu\")(x)\n",
    "        x = layers.SeparableConv2D(size, 3, padding=\"same\")(x)\n",
    "        x = layers.BatchNormalization()(x)\n",
    "\n",
    "        x = layers.Activation(\"relu\")(x)\n",
    "        x = layers.SeparableConv2D(size, 3, padding=\"same\")(x)\n",
    "        x = layers.BatchNormalization()(x)\n",
    "\n",
    "        x = layers.MaxPooling2D(3, strides=2, padding=\"same\")(x)\n",
    "\n",
    "        # Project residual\n",
    "        residual = layers.Conv2D(size, 1, strides=2, padding=\"same\")(\n",
    "            previous_block_activation\n",
    "        )\n",
    "        x = layers.add([x, residual])  # Add back residual\n",
    "        previous_block_activation = x  # Set aside next residual\n",
    "\n",
    "    x = layers.SeparableConv2D(1024, 3, padding=\"same\")(x)\n",
    "    x = layers.BatchNormalization()(x)\n",
    "    x = layers.Activation(\"relu\")(x)\n",
    "\n",
    "    x = layers.GlobalAveragePooling2D()(x)\n",
    "    if num_classes == 2:\n",
    "        units = 1\n",
    "    else:\n",
    "        units = num_classes\n",
    "\n",
    "    x = layers.Dropout(0.25)(x)\n",
    "    # We specify activation=None so as to return logits\n",
    "    outputs = layers.Dense(units, activation=None)(x)\n",
    "    return keras.Model(inputs, outputs)\n",
    "\n",
    "model = build_custom_cnn(input_shape=(96, 96, 3), num_classes=2)\n",
    "model.summary()"
   ]
  },
  {
   "cell_type": "code",
   "execution_count": null,
   "id": "4ea30166",
   "metadata": {},
   "outputs": [],
   "source": [
    "keras.utils.plot_model(model, show_shapes=True)"
   ]
  },
  {
   "cell_type": "code",
   "execution_count": null,
   "id": "5a56f228",
   "metadata": {},
   "outputs": [],
   "source": [
    "from sklearn.utils.class_weight import compute_class_weight\n",
    "import numpy as np\n",
    "from tensorflow.keras.callbacks import EarlyStopping\n",
    "\n",
    "\n",
    "EPOCHS = 25\n",
    "\n",
    "callbacks = [\n",
    "    keras.callbacks.ModelCheckpoint(\"checkpoints/save_at_{epoch}.keras\"),\n",
    "    EarlyStopping(monitor='val_loss', patience=5, restore_best_weights=True)\n",
    "]\n",
    "model.compile(\n",
    "    optimizer=keras.optimizers.Adam(3e-4),\n",
    "    loss=keras.losses.BinaryCrossentropy(from_logits=True),\n",
    "    metrics=[keras.metrics.BinaryAccuracy(name=\"acc\")],\n",
    ")\n",
    "\n",
    "# Class weights\n",
    "labels = df['label'].values\n",
    "class_weights = compute_class_weight('balanced', classes=np.unique(labels), y=labels)\n",
    "class_weight_dict = {0: class_weights[0], 1: class_weights[1]}\n",
    "\n",
    "\n",
    "\n",
    "# Train custom CNN\n",
    "history_custom = model.fit(\n",
    "    train_ds,\n",
    "    validation_data=val_ds,\n",
    "    epochs=EPOCHS,\n",
    "    class_weight=class_weight_dict,\n",
    "    callbacks=callbacks\n",
    ")"
   ]
  },
  {
   "cell_type": "code",
   "execution_count": null,
   "id": "486d6451",
   "metadata": {},
   "outputs": [],
   "source": [
    "# Predict\n",
    "test_ids = [f[:-4] for f in os.listdir(test_processed_dir) if f.endswith('.jpg')]\n",
    "predictions = model.predict(test_ds).flatten()\n",
    "submission = pd.DataFrame({'id': test_ids, 'label': (predictions > 0.5).astype(int)})\n",
    "submission.to_csv('submission.csv', index=False)"
   ]
  },
  {
   "cell_type": "code",
   "execution_count": null,
   "id": "0507c0bc",
   "metadata": {},
   "outputs": [],
   "source": []
  }
 ],
 "metadata": {
  "kernelspec": {
   "display_name": "csca-5642-tf-mac",
   "language": "python",
   "name": "python3"
  },
  "language_info": {
   "codemirror_mode": {
    "name": "ipython",
    "version": 3
   },
   "file_extension": ".py",
   "mimetype": "text/x-python",
   "name": "python",
   "nbconvert_exporter": "python",
   "pygments_lexer": "ipython3",
   "version": "3.10.9"
  }
 },
 "nbformat": 4,
 "nbformat_minor": 5
}
