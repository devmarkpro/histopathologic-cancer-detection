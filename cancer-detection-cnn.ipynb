{
 "cells": [
  {
   "cell_type": "code",
   "execution_count": null,
   "id": "fb1bfb5e",
   "metadata": {},
   "outputs": [],
   "source": [
    "import pandas as pd\n",
    "import numpy as np\n",
    "import os\n",
    "import matplotlib.pyplot as plt\n",
    "import tensorflow as tf\n",
    "import sklearn\n",
    "from tensorflow.keras.utils import image_dataset_from_directory\n",
    "from tensorflow.keras import layers\n",
    "\n",
    "os.environ['KERAS_BACKEND'] = 'tensorflow'"
   ]
  },
  {
   "cell_type": "code",
   "execution_count": null,
   "id": "9e157f30",
   "metadata": {},
   "outputs": [],
   "source": [
    "import keras\n",
    "\n",
    "print(\"Keras version:\", keras.__version__)"
   ]
  },
  {
   "cell_type": "code",
   "execution_count": null,
   "id": "95c482d0",
   "metadata": {},
   "outputs": [],
   "source": [
    "from typing import Literal\n",
    "\n",
    "\n",
    "def get_running_environment() -> Literal['local', 'colab', 'kaggle', 'marimo', 'jupyter']:\n",
    "    \"\"\"\n",
    "    Returns the current running environment.\n",
    "    \"\"\"\n",
    "    if 'COLAB_GPU' in os.environ:\n",
    "        return 'colab'\n",
    "    elif 'KAGGLE_URL_BASE' in os.environ:\n",
    "        return 'kaggle'\n",
    "    elif 'MARIMO' in os.environ:\n",
    "        return 'marimo'\n",
    "    elif 'JUPYTERHUB_USER' in os.environ:\n",
    "        return 'jupyter'\n",
    "    else:\n",
    "        return 'local'\n",
    "current_env = get_running_environment()\n",
    "\n",
    "def get_data_path(running_env: str) -> str:\n",
    "    \"\"\"\n",
    "    Returns the path to the data directory based on the running environment.\n",
    "    \"\"\"\n",
    "    if running_env == 'colab':\n",
    "        return '/content/data'\n",
    "    elif running_env == 'kaggle':\n",
    "        return '/kaggle/input/histopathologic-cancer-detection'\n",
    "    elif running_env == 'marimo':\n",
    "        return '/data'\n",
    "    else:\n",
    "        return './data/histopathologic-cancer-detection'\n",
    "    \n",
    "def set_random_seed(seed: int = 42):\n",
    "    \"\"\"\n",
    "    Sets the random seed for reproducibility.\n",
    "    \"\"\"\n",
    "    np.random.seed(seed)\n",
    "    tf.random.set_seed(seed)\n",
    "    print(f\"Random seed set to {seed}\")\n",
    "\n",
    "data_dir = get_data_path(current_env)\n",
    "print(f\"Data path: {data_dir} (for {current_env} environment)\")\n",
    "\n",
    "RANDOM_SEED = 42\n",
    "\n",
    "set_random_seed(RANDOM_SEED)"
   ]
  },
  {
   "cell_type": "code",
   "execution_count": null,
   "id": "e56c757c",
   "metadata": {},
   "outputs": [],
   "source": [
    "IMAGE_SIZE = 96\n",
    "IMAGE_CHANNEL = 3\n",
    "SAMPLE_SIZE = 1000\n",
    "BATCH_SIZE = 32\n",
    "TRAIN_IMAGE_DIR = os.path.join(data_dir, 'train')\n",
    "TEST_IMAGE_DIR = os.path.join(data_dir, 'test')"
   ]
  },
  {
   "cell_type": "code",
   "execution_count": null,
   "id": "df8f106f",
   "metadata": {},
   "outputs": [],
   "source": [
    "df = pd.read_csv(os.path.join(data_dir, 'train_labels.csv'))"
   ]
  },
  {
   "cell_type": "code",
   "execution_count": null,
   "id": "e99b36d2",
   "metadata": {},
   "outputs": [],
   "source": [
    "negative_samples = df[df['label'] == 0].sample(SAMPLE_SIZE, random_state=RANDOM_SEED)\n",
    "positive_samples = df[df['label'] == 1].sample(SAMPLE_SIZE, random_state=RANDOM_SEED)"
   ]
  },
  {
   "cell_type": "code",
   "execution_count": null,
   "id": "b91ac214",
   "metadata": {},
   "outputs": [],
   "source": [
    "train_processed_dir = os.path.join(data_dir, \"train_processed\")\n",
    "test_processed_dir = os.path.join(data_dir, \"test_processed\")"
   ]
  },
  {
   "cell_type": "code",
   "execution_count": null,
   "id": "97aa2b27",
   "metadata": {},
   "outputs": [],
   "source": [
    "train_ds = image_dataset_from_directory(\n",
    "    train_processed_dir,\n",
    "    validation_split=0.2,\n",
    "    subset=\"training\",\n",
    "    seed=123,\n",
    "    image_size=(IMAGE_SIZE, IMAGE_SIZE),\n",
    "    batch_size=BATCH_SIZE,\n",
    "    label_mode='binary'  # Binary labels (0 or 1)\n",
    ")"
   ]
  },
  {
   "cell_type": "code",
   "execution_count": null,
   "id": "638b08d2",
   "metadata": {},
   "outputs": [],
   "source": [
    "val_ds = image_dataset_from_directory(\n",
    "    train_processed_dir,\n",
    "    validation_split=0.2,\n",
    "    subset=\"validation\",\n",
    "    seed=123,\n",
    "    image_size=(IMAGE_SIZE, IMAGE_SIZE),\n",
    "    batch_size=BATCH_SIZE,\n",
    "    label_mode='binary'\n",
    ")"
   ]
  },
  {
   "cell_type": "code",
   "execution_count": null,
   "id": "147e1252",
   "metadata": {},
   "outputs": [],
   "source": [
    "test_ds = image_dataset_from_directory(\n",
    "    test_processed_dir,\n",
    "    image_size=(IMAGE_SIZE, IMAGE_SIZE),\n",
    "    batch_size=BATCH_SIZE,\n",
    "    label_mode=None,  # No labels for test\n",
    "    shuffle=False  # Preserve order for submission\n",
    ")"
   ]
  },
  {
   "cell_type": "code",
   "execution_count": null,
   "id": "81a74b78",
   "metadata": {},
   "outputs": [],
   "source": [
    "plt.figure(figsize=(10, 10))\n",
    "for images, labels in train_ds.take(1):\n",
    "    for i in range(9):\n",
    "        ax = plt.subplot(3, 3, i + 1)\n",
    "        plt.imshow(np.array(images[i]).astype(\"uint8\"))\n",
    "        plt.title(int(labels[i]))\n",
    "        plt.axis(\"off\")"
   ]
  },
  {
   "cell_type": "code",
   "execution_count": null,
   "id": "76d28d76",
   "metadata": {},
   "outputs": [],
   "source": [
    "def build_custom_cnn():\n",
    "    model = tf.keras.Sequential([\n",
    "        layers.Conv2D(32, (3,3), activation='relu', input_shape=(96,96,3)),\n",
    "        layers.MaxPooling2D((2,2)),\n",
    "        layers.Conv2D(64, (3,3), activation='relu'),\n",
    "        layers.MaxPooling2D((2,2)),\n",
    "        layers.Conv2D(128, (3,3), activation='relu'),\n",
    "        layers.MaxPooling2D((2,2)),\n",
    "        layers.Flatten(),\n",
    "        layers.Dense(128, activation='relu'),\n",
    "        layers.Dropout(0.5),\n",
    "        layers.Dense(1, activation='sigmoid')\n",
    "    ])\n",
    "    model.compile(optimizer=tf.keras.optimizers.Adam(learning_rate=0.001),\n",
    "                  loss='binary_crossentropy',\n",
    "                  metrics=['accuracy', tf.keras.metrics.AUC()])\n",
    "    return model\n",
    "\n",
    "custom_model = build_custom_cnn()\n",
    "custom_model.summary()"
   ]
  },
  {
   "cell_type": "code",
   "execution_count": 19,
   "id": "5a56f228",
   "metadata": {},
   "outputs": [
    {
     "name": "stdout",
     "output_type": "stream",
     "text": [
      "Epoch 1/50\n"
     ]
    },
    {
     "name": "stderr",
     "output_type": "stream",
     "text": [
      "2025-07-22 06:48:39.687094: I tensorflow/core/grappler/optimizers/custom_graph_optimizer_registry.cc:117] Plugin optimizer for device_type GPU is enabled.\n"
     ]
    },
    {
     "name": "stdout",
     "output_type": "stream",
     "text": [
      "\u001b[1m5501/5501\u001b[0m \u001b[32m━━━━━━━━━━━━━━━━━━━━\u001b[0m\u001b[37m\u001b[0m \u001b[1m120s\u001b[0m 21ms/step - accuracy: 0.5251 - auc: 0.5452 - loss: 4.0432 - val_accuracy: 0.7808 - val_auc: 0.8588 - val_loss: 0.5035\n",
      "Epoch 2/50\n",
      "\u001b[1m5501/5501\u001b[0m \u001b[32m━━━━━━━━━━━━━━━━━━━━\u001b[0m\u001b[37m\u001b[0m \u001b[1m127s\u001b[0m 23ms/step - accuracy: 0.7388 - auc: 0.7993 - loss: 0.6293 - val_accuracy: 0.8055 - val_auc: 0.8706 - val_loss: 0.5116\n",
      "Epoch 3/50\n",
      "\u001b[1m5501/5501\u001b[0m \u001b[32m━━━━━━━━━━━━━━━━━━━━\u001b[0m\u001b[37m\u001b[0m \u001b[1m129s\u001b[0m 23ms/step - accuracy: 0.7347 - auc: 0.7908 - loss: 0.7947 - val_accuracy: 0.8147 - val_auc: 0.8785 - val_loss: 0.4788\n",
      "Epoch 4/50\n",
      "\u001b[1m5501/5501\u001b[0m \u001b[32m━━━━━━━━━━━━━━━━━━━━\u001b[0m\u001b[37m\u001b[0m \u001b[1m117s\u001b[0m 21ms/step - accuracy: 0.7422 - auc: 0.7937 - loss: 1.1749 - val_accuracy: 0.7828 - val_auc: 0.8747 - val_loss: 1.2748\n",
      "Epoch 5/50\n",
      "\u001b[1m5501/5501\u001b[0m \u001b[32m━━━━━━━━━━━━━━━━━━━━\u001b[0m\u001b[37m\u001b[0m \u001b[1m120s\u001b[0m 22ms/step - accuracy: 0.7463 - auc: 0.7977 - loss: 1.6053 - val_accuracy: 0.7177 - val_auc: 0.8719 - val_loss: 1.3798\n",
      "Epoch 6/50\n",
      "\u001b[1m5501/5501\u001b[0m \u001b[32m━━━━━━━━━━━━━━━━━━━━\u001b[0m\u001b[37m\u001b[0m \u001b[1m120s\u001b[0m 22ms/step - accuracy: 0.7554 - auc: 0.8057 - loss: 1.6829 - val_accuracy: 0.8390 - val_auc: 0.8463 - val_loss: 2.7317\n",
      "Epoch 7/50\n",
      "\u001b[1m5501/5501\u001b[0m \u001b[32m━━━━━━━━━━━━━━━━━━━━\u001b[0m\u001b[37m\u001b[0m \u001b[1m121s\u001b[0m 22ms/step - accuracy: 0.7624 - auc: 0.8006 - loss: 3.2374 - val_accuracy: 0.8445 - val_auc: 0.8612 - val_loss: 1.7861\n",
      "Epoch 8/50\n",
      "\u001b[1m5501/5501\u001b[0m \u001b[32m━━━━━━━━━━━━━━━━━━━━\u001b[0m\u001b[37m\u001b[0m \u001b[1m121s\u001b[0m 22ms/step - accuracy: 0.7649 - auc: 0.7983 - loss: 3.8327 - val_accuracy: 0.8580 - val_auc: 0.8765 - val_loss: 1.7489\n"
     ]
    }
   ],
   "source": [
    "from sklearn.utils.class_weight import compute_class_weight\n",
    "import numpy as np\n",
    "from tensorflow.keras.callbacks import EarlyStopping\n",
    "\n",
    "# Class weights\n",
    "labels = df['label'].values\n",
    "class_weights = compute_class_weight('balanced', classes=np.unique(labels), y=labels)\n",
    "class_weight_dict = {0: class_weights[0], 1: class_weights[1]}\n",
    "\n",
    "# Callbacks\n",
    "early_stop = EarlyStopping(monitor='val_loss', patience=5, restore_best_weights=True)\n",
    "\n",
    "# Train custom CNN\n",
    "history_custom = custom_model.fit(\n",
    "    train_ds,\n",
    "    validation_data=val_ds,\n",
    "    epochs=50,\n",
    "    class_weight=class_weight_dict,\n",
    "    callbacks=[early_stop]\n",
    ")"
   ]
  },
  {
   "cell_type": "code",
   "execution_count": 21,
   "id": "486d6451",
   "metadata": {},
   "outputs": [
    {
     "name": "stdout",
     "output_type": "stream",
     "text": [
      "\u001b[1m1796/1796\u001b[0m \u001b[32m━━━━━━━━━━━━━━━━━━━━\u001b[0m\u001b[37m\u001b[0m \u001b[1m8s\u001b[0m 4ms/step\n"
     ]
    }
   ],
   "source": [
    "# Predict\n",
    "test_ids = [f[:-4] for f in os.listdir(test_processed_dir) if f.endswith('.jpg')]\n",
    "predictions = custom_model.predict(test_ds).flatten()\n",
    "submission = pd.DataFrame({'id': test_ids, 'label': (predictions > 0.5).astype(int)})\n",
    "submission.to_csv('submission.csv', index=False)"
   ]
  },
  {
   "cell_type": "code",
   "execution_count": null,
   "id": "0507c0bc",
   "metadata": {},
   "outputs": [],
   "source": []
  }
 ],
 "metadata": {
  "kernelspec": {
   "display_name": "csca-5642-tf-mac",
   "language": "python",
   "name": "python3"
  },
  "language_info": {
   "codemirror_mode": {
    "name": "ipython",
    "version": 3
   },
   "file_extension": ".py",
   "mimetype": "text/x-python",
   "name": "python",
   "nbconvert_exporter": "python",
   "pygments_lexer": "ipython3",
   "version": "3.10.9"
  }
 },
 "nbformat": 4,
 "nbformat_minor": 5
}
